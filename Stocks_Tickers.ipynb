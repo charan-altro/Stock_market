{
 "cells": [
  {
   "cell_type": "markdown",
   "metadata": {},
   "source": [
    "# Stocks analysis\n",
    "### import required llibraries"
   ]
  },
  {
   "cell_type": "code",
   "execution_count": 1,
   "metadata": {},
   "outputs": [
    {
     "data": {
      "text/html": [
       "        <script type=\"text/javascript\">\n",
       "        window.PlotlyConfig = {MathJaxConfig: 'local'};\n",
       "        if (window.MathJax) {MathJax.Hub.Config({SVG: {font: \"STIX-Web\"}});}\n",
       "        if (typeof require !== 'undefined') {\n",
       "        require.undef(\"plotly\");\n",
       "        requirejs.config({\n",
       "            paths: {\n",
       "                'plotly': ['https://cdn.plot.ly/plotly-latest.min']\n",
       "            }\n",
       "        });\n",
       "        require(['plotly'], function(Plotly) {\n",
       "            window._Plotly = Plotly;\n",
       "        });\n",
       "        }\n",
       "        </script>\n",
       "        "
      ]
     },
     "metadata": {},
     "output_type": "display_data"
    }
   ],
   "source": [
    "import yfinance as yf\n",
    "import pandas as pd\n",
    "import numpy as np\n",
    "#from pandas_datareader import data, wb\n",
    "import datetime\n",
    "import matplotlib.pyplot as plt\n",
    "plt.style.use(\"seaborn\")\n",
    "import cufflinks as cf\n",
    "import seaborn as sns\n",
    "%matplotlib inline"
   ]
  },
  {
   "cell_type": "markdown",
   "metadata": {},
   "source": [
    "# tickers save"
   ]
  },
  {
   "cell_type": "code",
   "execution_count": 39,
   "metadata": {},
   "outputs": [],
   "source": [
    "tickers = [\"TCS.NS\",\"INFY.NS\",\"WIPRO.NS\",\"BHARTIARTL.NS\",\"TECHM.NS\",\"CIPLA.NS\" ]\n",
    "# stocksdownload = yf.download(tickers, start = \"2008-12-30\", end = \"2020-05-20\") # download data from yahoo finance\n",
    "#stocksdownload = yf.download(tickers, start = \"2008-12-30\")                # download latest data"
   ]
  },
  {
   "cell_type": "code",
   "execution_count": 32,
   "metadata": {},
   "outputs": [],
   "source": [
    "df = pd.DataFrame(data=tickers)\n",
    "df.columns =['Tickers']  # add columns name in dataseries\n",
    "#df.to_csv(\"tickers.csv\", sep=',', index = False)\n",
    "#print(tickers)\n",
    "#tickers = pd.read_csv(\"tickers.csv\")  # read csv file which is saved intially\n",
    "#print(Tick)\n",
    "#convert data series into list\n",
    "#Ticks = df['Tickers'].tolist() \n",
    "#type(Ticks)\n",
    "#type(Ticks[0])"
   ]
  },
  {
   "cell_type": "code",
   "execution_count": null,
   "metadata": {},
   "outputs": [],
   "source": []
  },
  {
   "cell_type": "markdown",
   "metadata": {},
   "source": [
    "****"
   ]
  },
  {
   "cell_type": "markdown",
   "metadata": {},
   "source": [
    "## Tickers import from csv file "
   ]
  },
  {
   "cell_type": "code",
   "execution_count": 61,
   "metadata": {},
   "outputs": [],
   "source": [
    "Stocks = pd.read_csv(\"Large Blue Chip Stocks.csv\")"
   ]
  },
  {
   "cell_type": "code",
   "execution_count": 62,
   "metadata": {},
   "outputs": [],
   "source": [
    "Symbols = Stocks['Symbol'].tolist()"
   ]
  },
  {
   "cell_type": "code",
   "execution_count": 63,
   "metadata": {},
   "outputs": [],
   "source": [
    "df = pd.DataFrame(data=Symbols)\n",
    "df.columns =['Symbol']\n",
    "df.to_csv(\"Symbols.csv\", sep=',', index = False) # save only symbols"
   ]
  },
  {
   "cell_type": "code",
   "execution_count": 64,
   "metadata": {},
   "outputs": [
    {
     "name": "stdout",
     "output_type": "stream",
     "text": [
      "['CROMPTON.NS', 'GUJGASLTD.NS', 'AIAENG.NS', 'CUMMINSIND.NS', 'ASTRAL.NS', 'BOSCHLTD.NS', 'SCHAEFFLER.NS', 'ATUL.NS', 'DMART.NS', 'COROMANDEL.NS', 'MARUTI.NS', 'AARTIIND.NS', 'BATAINDIA.NS', 'HONAUT.NS', 'PIIND.NS', 'JUBLINDS.NS', 'ZEEL.NS', 'HINDZINC.NS', 'BAJAJ-AUTO.NS', 'WHIRLPOOL.NS', '3MINDIA.NS', 'TITAN.NS', 'NAUKRI.NS', 'ITC.NS', 'PIDILITIND.NS', 'ICICIGI.NS', 'ASIANPAINT.NS', 'MARICO.NS', 'BRITANNIA.NS', 'LT.NS', 'HINDUNILVR.NS', 'NESTLEIND.NS', 'COALINDIA.NS', 'PAGEIND.NS', 'CASTROLIND.NS', 'TCS.NS']\n"
     ]
    }
   ],
   "source": [
    "print(Symbols)"
   ]
  },
  {
   "cell_type": "code",
   "execution_count": null,
   "metadata": {},
   "outputs": [],
   "source": []
  }
 ],
 "metadata": {
  "kernelspec": {
   "display_name": "Python 3",
   "language": "python",
   "name": "python3"
  },
  "language_info": {
   "codemirror_mode": {
    "name": "ipython",
    "version": 3
   },
   "file_extension": ".py",
   "mimetype": "text/x-python",
   "name": "python",
   "nbconvert_exporter": "python",
   "pygments_lexer": "ipython3",
   "version": "3.7.6"
  }
 },
 "nbformat": 4,
 "nbformat_minor": 2
}
