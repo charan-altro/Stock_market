{
 "cells": [
  {
   "cell_type": "markdown",
   "metadata": {},
   "source": [
    "# Stocks analysis\n",
    "### import required llibraries"
   ]
  },
  {
   "cell_type": "code",
   "execution_count": 6,
   "metadata": {},
   "outputs": [
    {
     "data": {
      "text/html": [
       "        <script type=\"text/javascript\">\n",
       "        window.PlotlyConfig = {MathJaxConfig: 'local'};\n",
       "        if (window.MathJax) {MathJax.Hub.Config({SVG: {font: \"STIX-Web\"}});}\n",
       "        if (typeof require !== 'undefined') {\n",
       "        require.undef(\"plotly\");\n",
       "        requirejs.config({\n",
       "            paths: {\n",
       "                'plotly': ['https://cdn.plot.ly/plotly-latest.min']\n",
       "            }\n",
       "        });\n",
       "        require(['plotly'], function(Plotly) {\n",
       "            window._Plotly = Plotly;\n",
       "        });\n",
       "        }\n",
       "        </script>\n",
       "        "
      ]
     },
     "metadata": {},
     "output_type": "display_data"
    }
   ],
   "source": [
    "import yfinance as yf\n",
    "import pandas as pd\n",
    "import numpy as np\n",
    "#from pandas_datareader import data, wb\n",
    "import datetime\n",
    "import matplotlib.pyplot as plt\n",
    "plt.style.use(\"seaborn\")\n",
    "import cufflinks as cf\n",
    "import seaborn as sns\n",
    "%matplotlib inline"
   ]
  },
  {
   "cell_type": "markdown",
   "metadata": {},
   "source": [
    "## Enter Stocks tickers manually and download all stocks data in \"One File\""
   ]
  },
  {
   "cell_type": "code",
   "execution_count": 25,
   "metadata": {},
   "outputs": [
    {
     "name": "stdout",
     "output_type": "stream",
     "text": [
      "[*********************100%***********************]  6 of 6 completed\n"
     ]
    }
   ],
   "source": [
    "# tickers = [\"TCS.NS\",\"INFY.NS\",\"WIPRO.NS\",\"BHARTIARTL.NS\",\"TECHM.NS\",\"CIPLA.NS\" ]\n",
    "# ##### stocksdownload = yf.download(tickers, start = \"2008-12-30\", end = \"2020-05-20\") # download data from yahoo finance\n",
    "# stocksdownload = yf.download(tickers, start = \"2008-12-30\")                 # download latest data\n",
    "# #type(tickers[0])\n",
    "# #stocksdownload.head()\n",
    "# #stocks.head()\n",
    "# #stocks.tail()\n",
    "# stocksdownload.columns = pd.MultiIndex.from_tuples(stocksdownload.columns) # convert column title as index\n",
    "# #stocksdownload.head(2)"
   ]
  },
  {
   "cell_type": "code",
   "execution_count": 26,
   "metadata": {},
   "outputs": [],
   "source": [
    "# stocksdownload.to_csv(\"stocks.csv\")  # save downloded data to CSV File\n",
    "# stocks = pd.read_csv(\"stocks.csv\", header = [0, 1], index_col = [0], parse_dates = [0])   # read data from saved file\n",
    "# #stocks.head(2)"
   ]
  },
  {
   "cell_type": "code",
   "execution_count": null,
   "metadata": {},
   "outputs": [],
   "source": []
  },
  {
   "cell_type": "markdown",
   "metadata": {},
   "source": [
    "******\n",
    "****\n",
    "******\n"
   ]
  },
  {
   "cell_type": "markdown",
   "metadata": {},
   "source": [
    "## Enter Stocks tickers manually and download all stocks in \"individual File\""
   ]
  },
  {
   "cell_type": "code",
   "execution_count": 8,
   "metadata": {},
   "outputs": [
    {
     "name": "stdout",
     "output_type": "stream",
     "text": [
      "Already have TCS.NS\n",
      "Already have INFY.NS\n",
      "Already have WIPRO.NS\n",
      "Already have BHARTIARTL.NS\n",
      "Already have TECHM.NS\n",
      "Already have CIPLA.NS\n"
     ]
    }
   ],
   "source": [
    "# import os\n",
    "# tickers = [\"TCS.NS\",\"INFY.NS\",\"WIPRO.NS\",\"BHARTIARTL.NS\",\"TECHM.NS\",\"CIPLA.NS\" ]\n",
    "# def get_data():\n",
    "#     if not os.path.exists('stock_DF'):\n",
    "#         os.makedirs('stock_DF')\n",
    "#     else:\n",
    "#         for i in range (len(tickers)):\n",
    "#             if not os.path.exists(\"stock_DF/\"+ tickers[i] + \".csv\"):\n",
    "#                 df =  yf.download(tickers[i],start = \"2008-12-30\")\n",
    "#                 df.reset_index(inplace=True)\n",
    "#                 df.set_index(\"Date\", inplace=True)\n",
    "#                 df.to_csv(\"stock_DF/\"+ tickers[i] + \".csv\")\n",
    "#             else:\n",
    "#                 print('Already have ' + tickers[i])\n",
    "# get_data()"
   ]
  },
  {
   "cell_type": "code",
   "execution_count": null,
   "metadata": {},
   "outputs": [],
   "source": []
  },
  {
   "cell_type": "markdown",
   "metadata": {},
   "source": [
    "*****\n",
    "****\n",
    "*****\n"
   ]
  },
  {
   "cell_type": "markdown",
   "metadata": {},
   "source": [
    "## Stocks tickers from csv and download all stocks data in \"One File\""
   ]
  },
  {
   "cell_type": "code",
   "execution_count": 29,
   "metadata": {},
   "outputs": [
    {
     "name": "stdout",
     "output_type": "stream",
     "text": [
      "[*********************100%***********************]  36 of 36 completed\n"
     ]
    }
   ],
   "source": [
    "Stocks = pd.read_csv(\"Large Blue Chip Stocks.csv\")\n",
    "Symbols = Stocks['Symbol'].tolist()\n",
    "#print(Symbols)\n",
    "stocksdata = yf.download(Symbols, start = \"2008-12-30\")                 # download latest data\n",
    "#type(Symbols[0])\n",
    "#stocksdata.head()\n",
    "#stocks.head()\n",
    "#stocks.tail()\n",
    "stocksdata.columns = pd.MultiIndex.from_tuples(stocksdata.columns) # convert column title as index\n",
    "#stocksdata.head(2)"
   ]
  },
  {
   "cell_type": "code",
   "execution_count": 30,
   "metadata": {},
   "outputs": [],
   "source": [
    "stocksdata.to_csv(\"stocksdata.csv\")  # save downloded data to CSV File\n",
    "# allstocks = pd.read_csv(\"stocksdata.csv\", header = [0, 1], index_col = [0], parse_dates = [0])   # read data from saved file\n",
    "# allstocks.head(2)"
   ]
  },
  {
   "cell_type": "code",
   "execution_count": 41,
   "metadata": {},
   "outputs": [],
   "source": []
  },
  {
   "cell_type": "markdown",
   "metadata": {},
   "source": [
    "******\n",
    "*****\n",
    "*******"
   ]
  },
  {
   "cell_type": "markdown",
   "metadata": {},
   "source": [
    "## Stocks tickers from csv and download all stocks as \"individual File\""
   ]
  },
  {
   "cell_type": "code",
   "execution_count": 33,
   "metadata": {},
   "outputs": [],
   "source": [
    "Stocks = pd.read_csv(\"Large Blue Chip Stocks.csv\")\n",
    "Symbols = Stocks['Symbol'].tolist()\n",
    "# df = pd.DataFrame(data=Symbols)\n",
    "# #df.columns =['Symbol']----if you wannt column name\n",
    "# df.to_csv(\"Symbols.csv\", sep=',', index = False) # save only symbols\n",
    "# # df.to_csv(\"Symbols.csv\", index = False)\n",
    "# # print(Symbols)"
   ]
  },
  {
   "cell_type": "code",
   "execution_count": 35,
   "metadata": {},
   "outputs": [
    {
     "name": "stdout",
     "output_type": "stream",
     "text": [
      "Already have CROMPTON.NS\n",
      "Already have GUJGASLTD.NS\n",
      "Already have AIAENG.NS\n",
      "Already have CUMMINSIND.NS\n",
      "Already have ASTRAL.NS\n",
      "Already have BOSCHLTD.NS\n",
      "Already have SCHAEFFLER.NS\n",
      "Already have ATUL.NS\n",
      "Already have DMART.NS\n",
      "Already have COROMANDEL.NS\n",
      "Already have MARUTI.NS\n",
      "Already have AARTIIND.NS\n",
      "Already have BATAINDIA.NS\n",
      "Already have HONAUT.NS\n",
      "Already have PIIND.NS\n",
      "Already have JUBLINDS.NS\n",
      "Already have ZEEL.NS\n",
      "Already have HINDZINC.NS\n",
      "Already have BAJAJ-AUTO.NS\n",
      "Already have WHIRLPOOL.NS\n",
      "Already have 3MINDIA.NS\n",
      "Already have TITAN.NS\n",
      "Already have NAUKRI.NS\n",
      "Already have ITC.NS\n",
      "Already have PIDILITIND.NS\n",
      "Already have ICICIGI.NS\n",
      "Already have ASIANPAINT.NS\n",
      "Already have MARICO.NS\n",
      "Already have BRITANNIA.NS\n",
      "Already have LT.NS\n",
      "Already have HINDUNILVR.NS\n",
      "Already have NESTLEIND.NS\n",
      "Already have COALINDIA.NS\n",
      "Already have PAGEIND.NS\n",
      "Already have CASTROLIND.NS\n",
      "Already have TCS.NS\n"
     ]
    }
   ],
   "source": [
    "import os\n",
    "def get_data():\n",
    "    if not os.path.exists('stock_data'):\n",
    "        os.makedirs('stock_data')\n",
    "    else:\n",
    "        for i in range (len(Symbols)):\n",
    "            if not os.path.exists(\"stock_data/\"+ Symbols[i] + \".csv\"):\n",
    "                df =  yf.download(Symbols[i],start = \"2008-12-30\")\n",
    "                df.reset_index(inplace=True)\n",
    "                df.set_index(\"Date\", inplace=True)\n",
    "                df.to_csv(\"stock_data/\"+ Symbols[i] + \".csv\")\n",
    "            else:\n",
    "                print('Already have ' + Symbols[i])\n",
    "get_data()"
   ]
  },
  {
   "cell_type": "code",
   "execution_count": null,
   "metadata": {},
   "outputs": [],
   "source": []
  }
 ],
 "metadata": {
  "kernelspec": {
   "display_name": "Python 3",
   "language": "python",
   "name": "python3"
  },
  "language_info": {
   "codemirror_mode": {
    "name": "ipython",
    "version": 3
   },
   "file_extension": ".py",
   "mimetype": "text/x-python",
   "name": "python",
   "nbconvert_exporter": "python",
   "pygments_lexer": "ipython3",
   "version": "3.7.6"
  }
 },
 "nbformat": 4,
 "nbformat_minor": 2
}
